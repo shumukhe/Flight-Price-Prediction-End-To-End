{
 "cells": [
  {
   "cell_type": "markdown",
   "id": "6473fb6c-9267-4005-9466-ce1d375806a3",
   "metadata": {},
   "source": [
    "## Importing Libraries"
   ]
  },
  {
   "cell_type": "code",
   "execution_count": 1,
   "id": "1fe93bee-966c-47c6-bc26-ba08f82921ce",
   "metadata": {},
   "outputs": [],
   "source": [
    "import os\n",
    "\n",
    "import numpy as np\n",
    "\n",
    "import pandas as pd\n",
    "\n",
    "from sklearn.model_selection import train_test_split"
   ]
  },
  {
   "cell_type": "markdown",
   "id": "818f0d3c-cab9-448b-9b98-be707393ba8c",
   "metadata": {},
   "source": [
    "## Reading Data"
   ]
  },
  {
   "cell_type": "code",
   "execution_count": 2,
   "id": "f9dc99f7-ebf4-4cae-a812-f3e2232e6764",
   "metadata": {},
   "outputs": [],
   "source": [
    "PROJECT_DIR = r\"C:\\Users\\User\\Desktop\\Learnabay Training\\My Portfolio projects for resume\\Flight Price Prediction\"\n",
    "DATA_DIR = \"Data\""
   ]
  },
  {
   "cell_type": "code",
   "execution_count": 3,
   "id": "6b091cbe-fb37-4f13-aeab-ff5d82be07d0",
   "metadata": {},
   "outputs": [],
   "source": [
    "def get_data(name):\n",
    "\tfile_name = f\"{name}.csv\"\n",
    "\tfile_path = os.path.join(PROJECT_DIR, DATA_DIR, file_name)\n",
    "\treturn pd.read_csv(file_path)"
   ]
  },
  {
   "cell_type": "code",
   "execution_count": 4,
   "id": "ea1014df-a206-42a0-9e80-918f37f88514",
   "metadata": {},
   "outputs": [
    {
     "data": {
      "text/html": [
       "<div>\n",
       "<style scoped>\n",
       "    .dataframe tbody tr th:only-of-type {\n",
       "        vertical-align: middle;\n",
       "    }\n",
       "\n",
       "    .dataframe tbody tr th {\n",
       "        vertical-align: top;\n",
       "    }\n",
       "\n",
       "    .dataframe thead th {\n",
       "        text-align: right;\n",
       "    }\n",
       "</style>\n",
       "<table border=\"1\" class=\"dataframe\">\n",
       "  <thead>\n",
       "    <tr style=\"text-align: right;\">\n",
       "      <th></th>\n",
       "      <th>Airline</th>\n",
       "      <th>Date_of_Journey</th>\n",
       "      <th>Source</th>\n",
       "      <th>Destination</th>\n",
       "      <th>Route</th>\n",
       "      <th>Dep_Time</th>\n",
       "      <th>Arrival_Time</th>\n",
       "      <th>Duration</th>\n",
       "      <th>Total_Stops</th>\n",
       "      <th>Additional_Info</th>\n",
       "      <th>Price</th>\n",
       "    </tr>\n",
       "  </thead>\n",
       "  <tbody>\n",
       "    <tr>\n",
       "      <th>0</th>\n",
       "      <td>IndiGo</td>\n",
       "      <td>24/03/2019</td>\n",
       "      <td>Banglore</td>\n",
       "      <td>New Delhi</td>\n",
       "      <td>BLR → DEL</td>\n",
       "      <td>22:20</td>\n",
       "      <td>01:10 22 Mar</td>\n",
       "      <td>2h 50m</td>\n",
       "      <td>non-stop</td>\n",
       "      <td>No info</td>\n",
       "      <td>3897</td>\n",
       "    </tr>\n",
       "    <tr>\n",
       "      <th>1</th>\n",
       "      <td>Air India</td>\n",
       "      <td>1/05/2019</td>\n",
       "      <td>Kolkata</td>\n",
       "      <td>Banglore</td>\n",
       "      <td>CCU → IXR → BBI → BLR</td>\n",
       "      <td>05:50</td>\n",
       "      <td>13:15</td>\n",
       "      <td>7h 25m</td>\n",
       "      <td>2 stops</td>\n",
       "      <td>No info</td>\n",
       "      <td>7662</td>\n",
       "    </tr>\n",
       "    <tr>\n",
       "      <th>2</th>\n",
       "      <td>Jet Airways</td>\n",
       "      <td>9/06/2019</td>\n",
       "      <td>Delhi</td>\n",
       "      <td>Cochin</td>\n",
       "      <td>DEL → LKO → BOM → COK</td>\n",
       "      <td>09:25</td>\n",
       "      <td>04:25 10 Jun</td>\n",
       "      <td>19h</td>\n",
       "      <td>2 stops</td>\n",
       "      <td>No info</td>\n",
       "      <td>13882</td>\n",
       "    </tr>\n",
       "    <tr>\n",
       "      <th>3</th>\n",
       "      <td>IndiGo</td>\n",
       "      <td>12/05/2019</td>\n",
       "      <td>Kolkata</td>\n",
       "      <td>Banglore</td>\n",
       "      <td>CCU → NAG → BLR</td>\n",
       "      <td>18:05</td>\n",
       "      <td>23:30</td>\n",
       "      <td>5h 25m</td>\n",
       "      <td>1 stop</td>\n",
       "      <td>No info</td>\n",
       "      <td>6218</td>\n",
       "    </tr>\n",
       "    <tr>\n",
       "      <th>4</th>\n",
       "      <td>IndiGo</td>\n",
       "      <td>01/03/2019</td>\n",
       "      <td>Banglore</td>\n",
       "      <td>New Delhi</td>\n",
       "      <td>BLR → NAG → DEL</td>\n",
       "      <td>16:50</td>\n",
       "      <td>21:35</td>\n",
       "      <td>4h 45m</td>\n",
       "      <td>1 stop</td>\n",
       "      <td>No info</td>\n",
       "      <td>13302</td>\n",
       "    </tr>\n",
       "    <tr>\n",
       "      <th>...</th>\n",
       "      <td>...</td>\n",
       "      <td>...</td>\n",
       "      <td>...</td>\n",
       "      <td>...</td>\n",
       "      <td>...</td>\n",
       "      <td>...</td>\n",
       "      <td>...</td>\n",
       "      <td>...</td>\n",
       "      <td>...</td>\n",
       "      <td>...</td>\n",
       "      <td>...</td>\n",
       "    </tr>\n",
       "    <tr>\n",
       "      <th>10678</th>\n",
       "      <td>Air Asia</td>\n",
       "      <td>9/04/2019</td>\n",
       "      <td>Kolkata</td>\n",
       "      <td>Banglore</td>\n",
       "      <td>CCU → BLR</td>\n",
       "      <td>19:55</td>\n",
       "      <td>22:25</td>\n",
       "      <td>2h 30m</td>\n",
       "      <td>non-stop</td>\n",
       "      <td>No info</td>\n",
       "      <td>4107</td>\n",
       "    </tr>\n",
       "    <tr>\n",
       "      <th>10679</th>\n",
       "      <td>Air India</td>\n",
       "      <td>27/04/2019</td>\n",
       "      <td>Kolkata</td>\n",
       "      <td>Banglore</td>\n",
       "      <td>CCU → BLR</td>\n",
       "      <td>20:45</td>\n",
       "      <td>23:20</td>\n",
       "      <td>2h 35m</td>\n",
       "      <td>non-stop</td>\n",
       "      <td>No info</td>\n",
       "      <td>4145</td>\n",
       "    </tr>\n",
       "    <tr>\n",
       "      <th>10680</th>\n",
       "      <td>Jet Airways</td>\n",
       "      <td>27/04/2019</td>\n",
       "      <td>Banglore</td>\n",
       "      <td>Delhi</td>\n",
       "      <td>BLR → DEL</td>\n",
       "      <td>08:20</td>\n",
       "      <td>11:20</td>\n",
       "      <td>3h</td>\n",
       "      <td>non-stop</td>\n",
       "      <td>No info</td>\n",
       "      <td>7229</td>\n",
       "    </tr>\n",
       "    <tr>\n",
       "      <th>10681</th>\n",
       "      <td>Vistara</td>\n",
       "      <td>01/03/2019</td>\n",
       "      <td>Banglore</td>\n",
       "      <td>New Delhi</td>\n",
       "      <td>BLR → DEL</td>\n",
       "      <td>11:30</td>\n",
       "      <td>14:10</td>\n",
       "      <td>2h 40m</td>\n",
       "      <td>non-stop</td>\n",
       "      <td>No info</td>\n",
       "      <td>12648</td>\n",
       "    </tr>\n",
       "    <tr>\n",
       "      <th>10682</th>\n",
       "      <td>Air India</td>\n",
       "      <td>9/05/2019</td>\n",
       "      <td>Delhi</td>\n",
       "      <td>Cochin</td>\n",
       "      <td>DEL → GOI → BOM → COK</td>\n",
       "      <td>10:55</td>\n",
       "      <td>19:15</td>\n",
       "      <td>8h 20m</td>\n",
       "      <td>2 stops</td>\n",
       "      <td>No info</td>\n",
       "      <td>11753</td>\n",
       "    </tr>\n",
       "  </tbody>\n",
       "</table>\n",
       "<p>10683 rows × 11 columns</p>\n",
       "</div>"
      ],
      "text/plain": [
       "           Airline Date_of_Journey    Source Destination  \\\n",
       "0           IndiGo      24/03/2019  Banglore   New Delhi   \n",
       "1        Air India       1/05/2019   Kolkata    Banglore   \n",
       "2      Jet Airways       9/06/2019     Delhi      Cochin   \n",
       "3           IndiGo      12/05/2019   Kolkata    Banglore   \n",
       "4           IndiGo      01/03/2019  Banglore   New Delhi   \n",
       "...            ...             ...       ...         ...   \n",
       "10678     Air Asia       9/04/2019   Kolkata    Banglore   \n",
       "10679    Air India      27/04/2019   Kolkata    Banglore   \n",
       "10680  Jet Airways      27/04/2019  Banglore       Delhi   \n",
       "10681      Vistara      01/03/2019  Banglore   New Delhi   \n",
       "10682    Air India       9/05/2019     Delhi      Cochin   \n",
       "\n",
       "                       Route Dep_Time  Arrival_Time Duration Total_Stops  \\\n",
       "0                  BLR → DEL    22:20  01:10 22 Mar   2h 50m    non-stop   \n",
       "1      CCU → IXR → BBI → BLR    05:50         13:15   7h 25m     2 stops   \n",
       "2      DEL → LKO → BOM → COK    09:25  04:25 10 Jun      19h     2 stops   \n",
       "3            CCU → NAG → BLR    18:05         23:30   5h 25m      1 stop   \n",
       "4            BLR → NAG → DEL    16:50         21:35   4h 45m      1 stop   \n",
       "...                      ...      ...           ...      ...         ...   \n",
       "10678              CCU → BLR    19:55         22:25   2h 30m    non-stop   \n",
       "10679              CCU → BLR    20:45         23:20   2h 35m    non-stop   \n",
       "10680              BLR → DEL    08:20         11:20       3h    non-stop   \n",
       "10681              BLR → DEL    11:30         14:10   2h 40m    non-stop   \n",
       "10682  DEL → GOI → BOM → COK    10:55         19:15   8h 20m     2 stops   \n",
       "\n",
       "      Additional_Info  Price  \n",
       "0             No info   3897  \n",
       "1             No info   7662  \n",
       "2             No info  13882  \n",
       "3             No info   6218  \n",
       "4             No info  13302  \n",
       "...               ...    ...  \n",
       "10678         No info   4107  \n",
       "10679         No info   4145  \n",
       "10680         No info   7229  \n",
       "10681         No info  12648  \n",
       "10682         No info  11753  \n",
       "\n",
       "[10683 rows x 11 columns]"
      ]
     },
     "execution_count": 4,
     "metadata": {},
     "output_type": "execute_result"
    }
   ],
   "source": [
    "flights = get_data(\"flight_price\")\n",
    "flights"
   ]
  },
  {
   "cell_type": "code",
   "execution_count": 5,
   "id": "54ff9b65-4c6e-4b08-894f-3ed267e2a684",
   "metadata": {},
   "outputs": [
    {
     "name": "stdout",
     "output_type": "stream",
     "text": [
      "<class 'pandas.core.frame.DataFrame'>\n",
      "RangeIndex: 10683 entries, 0 to 10682\n",
      "Data columns (total 11 columns):\n",
      " #   Column           Non-Null Count  Dtype \n",
      "---  ------           --------------  ----- \n",
      " 0   Airline          10683 non-null  object\n",
      " 1   Date_of_Journey  10683 non-null  object\n",
      " 2   Source           10683 non-null  object\n",
      " 3   Destination      10683 non-null  object\n",
      " 4   Route            10682 non-null  object\n",
      " 5   Dep_Time         10683 non-null  object\n",
      " 6   Arrival_Time     10683 non-null  object\n",
      " 7   Duration         10683 non-null  object\n",
      " 8   Total_Stops      10682 non-null  object\n",
      " 9   Additional_Info  10683 non-null  object\n",
      " 10  Price            10683 non-null  int64 \n",
      "dtypes: int64(1), object(10)\n",
      "memory usage: 918.2+ KB\n"
     ]
    }
   ],
   "source": [
    "flights.info()"
   ]
  },
  {
   "cell_type": "code",
   "execution_count": 6,
   "id": "0f7b41e1-cfd2-4ea4-a5ee-8aabd2b947f4",
   "metadata": {},
   "outputs": [],
   "source": [
    "flights.dropna(inplace=True)"
   ]
  },
  {
   "cell_type": "code",
   "execution_count": 7,
   "id": "29763c19-8c8d-4700-9dd7-485e1f29ef45",
   "metadata": {},
   "outputs": [
    {
     "name": "stdout",
     "output_type": "stream",
     "text": [
      "<class 'pandas.core.frame.DataFrame'>\n",
      "Index: 10682 entries, 0 to 10682\n",
      "Data columns (total 11 columns):\n",
      " #   Column           Non-Null Count  Dtype \n",
      "---  ------           --------------  ----- \n",
      " 0   Airline          10682 non-null  object\n",
      " 1   Date_of_Journey  10682 non-null  object\n",
      " 2   Source           10682 non-null  object\n",
      " 3   Destination      10682 non-null  object\n",
      " 4   Route            10682 non-null  object\n",
      " 5   Dep_Time         10682 non-null  object\n",
      " 6   Arrival_Time     10682 non-null  object\n",
      " 7   Duration         10682 non-null  object\n",
      " 8   Total_Stops      10682 non-null  object\n",
      " 9   Additional_Info  10682 non-null  object\n",
      " 10  Price            10682 non-null  int64 \n",
      "dtypes: int64(1), object(10)\n",
      "memory usage: 1001.4+ KB\n"
     ]
    }
   ],
   "source": [
    "flights.info()"
   ]
  },
  {
   "cell_type": "markdown",
   "id": "91abd8b7-8f5d-456e-94c7-58b566fd3693",
   "metadata": {},
   "source": [
    "### Observations\n",
    "- The dataset contains 10,683 rows and 11 features\n",
    "- Columns Route and Total_Stops have missing value in the same row thus removed.\n",
    "- The data types of some features isn't appropriate\n",
    "te\n"
   ]
  },
  {
   "cell_type": "markdown",
   "id": "fc1540de-f495-47a9-bec1-d269fbd3c09e",
   "metadata": {},
   "source": [
    "## Preliminary Analysis"
   ]
  },
  {
   "cell_type": "code",
   "execution_count": 8,
   "id": "a7557762-b7be-4a1b-b93f-c83a69d37d1a",
   "metadata": {},
   "outputs": [
    {
     "data": {
      "text/plain": [
       "Airline            object\n",
       "Date_of_Journey    object\n",
       "Source             object\n",
       "Destination        object\n",
       "Route              object\n",
       "Dep_Time           object\n",
       "Arrival_Time       object\n",
       "Duration           object\n",
       "Total_Stops        object\n",
       "Additional_Info    object\n",
       "Price               int64\n",
       "dtype: object"
      ]
     },
     "execution_count": 8,
     "metadata": {},
     "output_type": "execute_result"
    }
   ],
   "source": [
    "flights.dtypes"
   ]
  },
  {
   "cell_type": "code",
   "execution_count": 9,
   "id": "6caae1c5-84e7-4c35-b1dc-b7cde17dff17",
   "metadata": {},
   "outputs": [
    {
     "data": {
      "text/plain": [
       "220"
      ]
     },
     "execution_count": 9,
     "metadata": {},
     "output_type": "execute_result"
    }
   ],
   "source": [
    "flights.duplicated().sum()"
   ]
  },
  {
   "cell_type": "markdown",
   "id": "82569396-3771-4fbf-8faf-e95bb3c2194e",
   "metadata": {},
   "source": [
    "### Observations:\n",
    "- The type of Date_of_Journey, Dep_Time and Arrival_Time should be changed to datetime\n",
    "- The type of Duration and Total_Stops is mixed. It should be numeric type.\n",
    "- There're 220 duplicates. These should be removed."
   ]
  },
  {
   "cell_type": "markdown",
   "id": "bbe2e40f-6f8f-4a16-bbdc-c6c33f1049b9",
   "metadata": {},
   "source": [
    "## Detailed Analysis"
   ]
  },
  {
   "cell_type": "code",
   "execution_count": 10,
   "id": "a9d4c749-63de-4511-b156-b839f7881536",
   "metadata": {},
   "outputs": [
    {
     "data": {
      "text/plain": [
       "array(['IndiGo', 'Air India', 'Jet Airways', 'SpiceJet',\n",
       "       'Multiple carriers', 'GoAir', 'Vistara', 'Air Asia',\n",
       "       'Vistara Premium economy', 'Jet Airways Business',\n",
       "       'Multiple carriers Premium economy', 'Trujet'], dtype=object)"
      ]
     },
     "execution_count": 10,
     "metadata": {},
     "output_type": "execute_result"
    }
   ],
   "source": [
    "flights.Airline.unique()"
   ]
  },
  {
   "cell_type": "code",
   "execution_count": 11,
   "id": "0d849b08-9757-46ac-9257-21f5f4c7f28f",
   "metadata": {},
   "outputs": [
    {
     "data": {
      "text/plain": [
       "0             Indigo\n",
       "1          Air India\n",
       "2        Jet Airways\n",
       "3             Indigo\n",
       "4             Indigo\n",
       "            ...     \n",
       "10678       Air Asia\n",
       "10679      Air India\n",
       "10680    Jet Airways\n",
       "10681        Vistara\n",
       "10682      Air India\n",
       "Name: Airline, Length: 10682, dtype: object"
      ]
     },
     "execution_count": 11,
     "metadata": {},
     "output_type": "execute_result"
    }
   ],
   "source": [
    "(\n",
    "\tflights\n",
    "\t.Airline\n",
    "\t.str.replace(\" Premium economy\", \"\")\n",
    "\t.str.replace(\" Business\", \"\")\n",
    "\t.str.title()\n",
    ")\n"
   ]
  },
  {
   "cell_type": "code",
   "execution_count": 12,
   "id": "615b831a-b580-45ac-8341-8c90fa70be89",
   "metadata": {},
   "outputs": [
    {
     "data": {
      "text/plain": [
       "array(['Banglore', 'Kolkata', 'Delhi', 'Chennai', 'Mumbai'], dtype=object)"
      ]
     },
     "execution_count": 12,
     "metadata": {},
     "output_type": "execute_result"
    }
   ],
   "source": [
    "flights.Source.unique()"
   ]
  },
  {
   "cell_type": "code",
   "execution_count": 13,
   "id": "7f3d1d52-a416-4468-b511-a5bfa9bc67b9",
   "metadata": {},
   "outputs": [
    {
     "data": {
      "text/plain": [
       "Destination\n",
       "Cochin       4536\n",
       "Banglore     2871\n",
       "Delhi        1265\n",
       "New Delhi     932\n",
       "Hyderabad     697\n",
       "Kolkata       381\n",
       "Name: count, dtype: int64"
      ]
     },
     "execution_count": 13,
     "metadata": {},
     "output_type": "execute_result"
    }
   ],
   "source": [
    "flights.Destination.value_counts()"
   ]
  },
  {
   "cell_type": "code",
   "execution_count": 14,
   "id": "1335b3da-2726-42f7-a8f4-1bb1348aacdb",
   "metadata": {},
   "outputs": [
    {
     "data": {
      "text/plain": [
       "array(['Delhi', 'Banglore', 'Cochin', 'Kolkata', 'Hyderabad'],\n",
       "      dtype=object)"
      ]
     },
     "execution_count": 14,
     "metadata": {},
     "output_type": "execute_result"
    }
   ],
   "source": [
    "(\n",
    "\tflights\n",
    "\t.Destination\n",
    "\t.str.replace(\"New \", \"\")\n",
    "\t.unique()\n",
    ")"
   ]
  },
  {
   "cell_type": "code",
   "execution_count": 15,
   "id": "64720dfb-1a00-4dd7-a6e0-3f02d2374a48",
   "metadata": {},
   "outputs": [
    {
     "data": {
      "text/plain": [
       "0        24/03/2019\n",
       "1         1/05/2019\n",
       "2         9/06/2019\n",
       "3        12/05/2019\n",
       "4        01/03/2019\n",
       "            ...    \n",
       "10678     9/04/2019\n",
       "10679    27/04/2019\n",
       "10680    27/04/2019\n",
       "10681    01/03/2019\n",
       "10682     9/05/2019\n",
       "Name: Date_of_Journey, Length: 10682, dtype: object"
      ]
     },
     "execution_count": 15,
     "metadata": {},
     "output_type": "execute_result"
    }
   ],
   "source": [
    "flights.Date_of_Journey"
   ]
  },
  {
   "cell_type": "code",
   "execution_count": 16,
   "id": "dee9c7d4-985b-4d96-89a9-93e5361af1cb",
   "metadata": {},
   "outputs": [
    {
     "data": {
      "text/plain": [
       "0       2019-03-24\n",
       "1       2019-05-01\n",
       "2       2019-06-09\n",
       "3       2019-05-12\n",
       "4       2019-03-01\n",
       "           ...    \n",
       "10678   2019-04-09\n",
       "10679   2019-04-27\n",
       "10680   2019-04-27\n",
       "10681   2019-03-01\n",
       "10682   2019-05-09\n",
       "Name: Date_of_Journey, Length: 10682, dtype: datetime64[ns]"
      ]
     },
     "execution_count": 16,
     "metadata": {},
     "output_type": "execute_result"
    }
   ],
   "source": [
    "pd.to_datetime(flights.Date_of_Journey, dayfirst=True)"
   ]
  },
  {
   "cell_type": "code",
   "execution_count": 17,
   "id": "0c7eefd8-a82a-4123-af39-7cd123c61c8b",
   "metadata": {},
   "outputs": [
    {
     "data": {
      "text/plain": [
       "0        22:20\n",
       "1        05:50\n",
       "2        09:25\n",
       "3        18:05\n",
       "4        16:50\n",
       "         ...  \n",
       "10678    19:55\n",
       "10679    20:45\n",
       "10680    08:20\n",
       "10681    11:30\n",
       "10682    10:55\n",
       "Name: Dep_Time, Length: 10682, dtype: object"
      ]
     },
     "execution_count": 17,
     "metadata": {},
     "output_type": "execute_result"
    }
   ],
   "source": [
    "flights.Dep_Time"
   ]
  },
  {
   "cell_type": "code",
   "execution_count": 18,
   "id": "994b3a37-4e96-41cc-a3f0-ddbd7b94fb97",
   "metadata": {},
   "outputs": [
    {
     "data": {
      "text/plain": [
       "Series([], Name: Dep_Time, dtype: object)"
      ]
     },
     "execution_count": 18,
     "metadata": {},
     "output_type": "execute_result"
    }
   ],
   "source": [
    "(\n",
    "\tflights\n",
    "\t.Dep_Time\n",
    "\t.loc[lambda ser: ser.str.contains(\"[^0-9:]\")]\n",
    ")"
   ]
  },
  {
   "cell_type": "code",
   "execution_count": 19,
   "id": "74c5a68e-c830-4024-a3e8-a97efb2a21da",
   "metadata": {},
   "outputs": [
    {
     "data": {
      "text/plain": [
       "0        01:10 22 Mar\n",
       "1               13:15\n",
       "2        04:25 10 Jun\n",
       "3               23:30\n",
       "4               21:35\n",
       "             ...     \n",
       "10678           22:25\n",
       "10679           23:20\n",
       "10680           11:20\n",
       "10681           14:10\n",
       "10682           19:15\n",
       "Name: Arrival_Time, Length: 10682, dtype: object"
      ]
     },
     "execution_count": 19,
     "metadata": {},
     "output_type": "execute_result"
    }
   ],
   "source": [
    "flights.Arrival_Time"
   ]
  },
  {
   "cell_type": "code",
   "execution_count": 20,
   "id": "90126c89-25af-4da9-9584-4dc9ad0a7e27",
   "metadata": {},
   "outputs": [
    {
     "data": {
      "text/plain": [
       "array(['22 Mar', '10 Jun', '13 Mar', '02 Mar', '10 May', '04 Mar',\n",
       "       '13 Jun', '28 May', '19 Mar', '07 May', '02 Jun', '16 Jun',\n",
       "       '19 May', '16 May', '28 Jun', '02 May', '28 Mar', '19 Jun',\n",
       "       '04 Apr', '25 Mar', '07 Mar', '25 Jun', '07 Jun', '25 May',\n",
       "       '13 May', '16 Mar', '22 May', '10 Apr', '04 Jun', '20 May',\n",
       "       '28 Apr', '25 Apr', '10 Mar', '19 Apr', '13 Apr', '02 Apr',\n",
       "       '23 Mar', '22 Apr', '11 May', '07 Apr', '03 May', '08 Mar',\n",
       "       '03 Mar', '05 Mar', '22 Jun', '04 May', '26 May', '16 Apr',\n",
       "       '26 Jun', '29 May', '29 Jun', '29 Mar', '23 May', '17 Jun'],\n",
       "      dtype=object)"
      ]
     },
     "execution_count": 20,
     "metadata": {},
     "output_type": "execute_result"
    }
   ],
   "source": [
    "(\n",
    "\tflights\n",
    "\t.Arrival_Time\n",
    "\t.loc[lambda ser: ser.str.contains(\"[^0-9:]\")]\n",
    "\t.str.split(\" \", n=1)\n",
    "\t.str.get(1)\n",
    "\t.unique()\n",
    ")"
   ]
  },
  {
   "cell_type": "code",
   "execution_count": 21,
   "id": "5b8b49d2-268b-49bc-948c-70cd050fa390",
   "metadata": {},
   "outputs": [
    {
     "data": {
      "text/plain": [
       "0        2h 50m\n",
       "1        7h 25m\n",
       "2           19h\n",
       "3        5h 25m\n",
       "4        4h 45m\n",
       "          ...  \n",
       "10678    2h 30m\n",
       "10679    2h 35m\n",
       "10680        3h\n",
       "10681    2h 40m\n",
       "10682    8h 20m\n",
       "Name: Duration, Length: 10682, dtype: object"
      ]
     },
     "execution_count": 21,
     "metadata": {},
     "output_type": "execute_result"
    }
   ],
   "source": [
    "flights.Duration"
   ]
  },
  {
   "cell_type": "code",
   "execution_count": 22,
   "id": "0dc19dee-e32f-4341-b2bc-148b654f9b3e",
   "metadata": {},
   "outputs": [
    {
     "data": {
      "text/plain": [
       "array(['19h', '23h', '22h', '12h', '3h', '5h', '10h', '18h', '24h', '15h',\n",
       "       '16h', '8h', '14h', '20h', '13h', '11h', '9h', '27h', '26h', '4h',\n",
       "       '7h', '30h', '21h', '28h', '47h', '6h', '25h', '38h', '34h'],\n",
       "      dtype=object)"
      ]
     },
     "execution_count": 22,
     "metadata": {},
     "output_type": "execute_result"
    }
   ],
   "source": [
    "(\n",
    "\tflights\n",
    "\t.Duration\n",
    "\t.loc[lambda ser: ~ser.str.contains(\"m\")]\n",
    "\t.unique()\n",
    ")"
   ]
  },
  {
   "cell_type": "code",
   "execution_count": 23,
   "id": "1a21c5b4-1ee6-467d-9edf-c8da000e1f68",
   "metadata": {},
   "outputs": [
    {
     "data": {
      "text/plain": [
       "6474    5m\n",
       "Name: Duration, dtype: object"
      ]
     },
     "execution_count": 23,
     "metadata": {},
     "output_type": "execute_result"
    }
   ],
   "source": [
    "(\n",
    "\tflights\n",
    "\t.Duration\n",
    "\t.loc[lambda ser: ~ser.str.contains(\"h\")]\n",
    "\t# .unique()\n",
    ")"
   ]
  },
  {
   "cell_type": "code",
   "execution_count": 24,
   "id": "36d6a4d4-3176-46d2-bf62-debad7d56806",
   "metadata": {},
   "outputs": [
    {
     "data": {
      "text/html": [
       "<div>\n",
       "<style scoped>\n",
       "    .dataframe tbody tr th:only-of-type {\n",
       "        vertical-align: middle;\n",
       "    }\n",
       "\n",
       "    .dataframe tbody tr th {\n",
       "        vertical-align: top;\n",
       "    }\n",
       "\n",
       "    .dataframe thead th {\n",
       "        text-align: right;\n",
       "    }\n",
       "</style>\n",
       "<table border=\"1\" class=\"dataframe\">\n",
       "  <thead>\n",
       "    <tr style=\"text-align: right;\">\n",
       "      <th></th>\n",
       "      <th>Airline</th>\n",
       "      <th>Date_of_Journey</th>\n",
       "      <th>Source</th>\n",
       "      <th>Destination</th>\n",
       "      <th>Route</th>\n",
       "      <th>Dep_Time</th>\n",
       "      <th>Arrival_Time</th>\n",
       "      <th>Duration</th>\n",
       "      <th>Total_Stops</th>\n",
       "      <th>Additional_Info</th>\n",
       "      <th>Price</th>\n",
       "    </tr>\n",
       "  </thead>\n",
       "  <tbody>\n",
       "    <tr>\n",
       "      <th>6474</th>\n",
       "      <td>Air India</td>\n",
       "      <td>6/03/2019</td>\n",
       "      <td>Mumbai</td>\n",
       "      <td>Hyderabad</td>\n",
       "      <td>BOM → GOI → PNQ → HYD</td>\n",
       "      <td>16:50</td>\n",
       "      <td>16:55</td>\n",
       "      <td>5m</td>\n",
       "      <td>2 stops</td>\n",
       "      <td>No info</td>\n",
       "      <td>17327</td>\n",
       "    </tr>\n",
       "  </tbody>\n",
       "</table>\n",
       "</div>"
      ],
      "text/plain": [
       "        Airline Date_of_Journey  Source Destination                  Route  \\\n",
       "6474  Air India       6/03/2019  Mumbai   Hyderabad  BOM → GOI → PNQ → HYD   \n",
       "\n",
       "     Dep_Time Arrival_Time Duration Total_Stops Additional_Info  Price  \n",
       "6474    16:50        16:55       5m     2 stops         No info  17327  "
      ]
     },
     "execution_count": 24,
     "metadata": {},
     "output_type": "execute_result"
    }
   ],
   "source": [
    "flights.iloc[[6474]]"
   ]
  },
  {
   "cell_type": "markdown",
   "id": "7ab7276e-182c-4bbe-b62c-fa25f07fb3eb",
   "metadata": {},
   "source": [
    "- The observation indexed 6474 has duration of 5 minutes. This is clearly wrong. Will delete this observation."
   ]
  },
  {
   "cell_type": "code",
   "execution_count": 25,
   "id": "e8cb0aab-903a-4b1e-b077-776e3d3f1373",
   "metadata": {},
   "outputs": [
    {
     "data": {
      "text/plain": [
       "0         170\n",
       "1         445\n",
       "2        1140\n",
       "3         325\n",
       "4         285\n",
       "         ... \n",
       "10678     150\n",
       "10679     155\n",
       "10680     180\n",
       "10681     160\n",
       "10682     500\n",
       "Length: 10681, dtype: int64"
      ]
     },
     "execution_count": 25,
     "metadata": {},
     "output_type": "execute_result"
    }
   ],
   "source": [
    "(\n",
    "\tflights\n",
    "\t.Duration\n",
    "\t.drop(index=6474)\n",
    "\t.str.split(\" \", expand=True)\n",
    "\t.set_axis([\"hour\", \"minute\"], axis=1)\n",
    "\t.assign(\n",
    "\t\thour=lambda df_: (\n",
    "\t\t\tdf_\n",
    "\t\t\t.hour\n",
    "\t\t\t.str.replace(\"h\", \"\")\n",
    "\t\t\t.astype(int)\n",
    "\t\t\t.mul(60)\n",
    "\t\t),\n",
    "\t\tminute=lambda df_: (\n",
    "\t\t\tdf_\n",
    "\t\t\t.minute\n",
    "\t\t\t.str.replace(\"m\", \"\")\n",
    "\t\t\t.fillna(\"0\")\n",
    "\t\t\t.astype(int)\n",
    "\t\t)\n",
    "\t)\n",
    "\t.sum(axis=1)\n",
    ")"
   ]
  },
  {
   "cell_type": "code",
   "execution_count": 26,
   "id": "3ffbb373-f7a3-4e27-8924-3e1289ffbdc7",
   "metadata": {},
   "outputs": [
    {
     "data": {
      "text/html": [
       "<div>\n",
       "<style scoped>\n",
       "    .dataframe tbody tr th:only-of-type {\n",
       "        vertical-align: middle;\n",
       "    }\n",
       "\n",
       "    .dataframe tbody tr th {\n",
       "        vertical-align: top;\n",
       "    }\n",
       "\n",
       "    .dataframe thead th {\n",
       "        text-align: right;\n",
       "    }\n",
       "</style>\n",
       "<table border=\"1\" class=\"dataframe\">\n",
       "  <thead>\n",
       "    <tr style=\"text-align: right;\">\n",
       "      <th></th>\n",
       "      <th>duration_minutes</th>\n",
       "      <th>Duration</th>\n",
       "    </tr>\n",
       "  </thead>\n",
       "  <tbody>\n",
       "    <tr>\n",
       "      <th>0</th>\n",
       "      <td>170</td>\n",
       "      <td>2h 50m</td>\n",
       "    </tr>\n",
       "    <tr>\n",
       "      <th>1</th>\n",
       "      <td>445</td>\n",
       "      <td>7h 25m</td>\n",
       "    </tr>\n",
       "    <tr>\n",
       "      <th>2</th>\n",
       "      <td>1140</td>\n",
       "      <td>19h</td>\n",
       "    </tr>\n",
       "    <tr>\n",
       "      <th>3</th>\n",
       "      <td>325</td>\n",
       "      <td>5h 25m</td>\n",
       "    </tr>\n",
       "    <tr>\n",
       "      <th>4</th>\n",
       "      <td>285</td>\n",
       "      <td>4h 45m</td>\n",
       "    </tr>\n",
       "    <tr>\n",
       "      <th>...</th>\n",
       "      <td>...</td>\n",
       "      <td>...</td>\n",
       "    </tr>\n",
       "    <tr>\n",
       "      <th>10678</th>\n",
       "      <td>150</td>\n",
       "      <td>2h 30m</td>\n",
       "    </tr>\n",
       "    <tr>\n",
       "      <th>10679</th>\n",
       "      <td>155</td>\n",
       "      <td>2h 35m</td>\n",
       "    </tr>\n",
       "    <tr>\n",
       "      <th>10680</th>\n",
       "      <td>180</td>\n",
       "      <td>3h</td>\n",
       "    </tr>\n",
       "    <tr>\n",
       "      <th>10681</th>\n",
       "      <td>160</td>\n",
       "      <td>2h 40m</td>\n",
       "    </tr>\n",
       "    <tr>\n",
       "      <th>10682</th>\n",
       "      <td>500</td>\n",
       "      <td>8h 20m</td>\n",
       "    </tr>\n",
       "  </tbody>\n",
       "</table>\n",
       "<p>10681 rows × 2 columns</p>\n",
       "</div>"
      ],
      "text/plain": [
       "       duration_minutes Duration\n",
       "0                   170   2h 50m\n",
       "1                   445   7h 25m\n",
       "2                  1140      19h\n",
       "3                   325   5h 25m\n",
       "4                   285   4h 45m\n",
       "...                 ...      ...\n",
       "10678               150   2h 30m\n",
       "10679               155   2h 35m\n",
       "10680               180       3h\n",
       "10681               160   2h 40m\n",
       "10682               500   8h 20m\n",
       "\n",
       "[10681 rows x 2 columns]"
      ]
     },
     "execution_count": 26,
     "metadata": {},
     "output_type": "execute_result"
    }
   ],
   "source": [
    "(\n",
    "\tflights\n",
    "\t.Duration\n",
    "\t.drop(index=6474)\n",
    "\t.str.split(\" \", expand=True)\n",
    "\t.set_axis([\"hour\", \"minute\"], axis=1)\n",
    "\t.assign(\n",
    "\t\thour=lambda df_: (\n",
    "\t\t\tdf_\n",
    "\t\t\t.hour\n",
    "\t\t\t.str.replace(\"h\", \"\")\n",
    "\t\t\t.astype(int)\n",
    "\t\t\t.mul(60)\n",
    "\t\t),\n",
    "\t\tminute=lambda df_: (\n",
    "\t\t\tdf_\n",
    "\t\t\t.minute\n",
    "\t\t\t.str.replace(\"m\", \"\")\n",
    "\t\t\t.fillna(\"0\")\n",
    "\t\t\t.astype(int)\n",
    "\t\t)\n",
    "\t)\n",
    "\t.sum(axis=1)\n",
    "\t.rename(\"duration_minutes\")\n",
    "\t.to_frame()\n",
    "\t.join(flights.Duration.drop(index=6474))\n",
    ")"
   ]
  },
  {
   "cell_type": "code",
   "execution_count": 27,
   "id": "27e70bb8-97b9-44fb-ad85-972a039c266f",
   "metadata": {},
   "outputs": [
    {
     "data": {
      "text/plain": [
       "array(['non-stop', '2 stops', '1 stop', '3 stops', '4 stops'],\n",
       "      dtype=object)"
      ]
     },
     "execution_count": 27,
     "metadata": {},
     "output_type": "execute_result"
    }
   ],
   "source": [
    "flights.Total_Stops.unique()"
   ]
  },
  {
   "cell_type": "code",
   "execution_count": 28,
   "id": "2e38d9a6-3f7a-46b6-b06e-96d38d4cc2a6",
   "metadata": {},
   "outputs": [
    {
     "data": {
      "text/plain": [
       "0        0\n",
       "1        2\n",
       "2        2\n",
       "3        1\n",
       "4        1\n",
       "        ..\n",
       "10678    0\n",
       "10679    0\n",
       "10680    0\n",
       "10681    0\n",
       "10682    2\n",
       "Name: Total_Stops, Length: 10682, dtype: int64"
      ]
     },
     "execution_count": 28,
     "metadata": {},
     "output_type": "execute_result"
    }
   ],
   "source": [
    "(\n",
    "\tflights\n",
    "\t.Total_Stops\n",
    "\t.replace(\"non-stop\", \"0\")\n",
    "\t.str.replace(\" stops?\", \"\", regex=True) # \" stop\" \" stops\"\n",
    "\t.pipe(lambda ser: pd.to_numeric(ser))\n",
    ")"
   ]
  },
  {
   "cell_type": "code",
   "execution_count": 29,
   "id": "be959bae-1a65-420f-a384-f46c7060b90f",
   "metadata": {},
   "outputs": [
    {
     "data": {
      "text/plain": [
       "array(['No info', 'In-flight meal not included',\n",
       "       'No check-in baggage included', '1 Short layover', 'No Info',\n",
       "       '1 Long layover', 'Change airports', 'Business class',\n",
       "       'Red-eye flight', '2 Long layover'], dtype=object)"
      ]
     },
     "execution_count": 29,
     "metadata": {},
     "output_type": "execute_result"
    }
   ],
   "source": [
    "flights.Additional_Info.unique()"
   ]
  },
  {
   "cell_type": "markdown",
   "id": "099dce60-7c70-440c-8f39-450f67e15cb4",
   "metadata": {},
   "source": [
    "## Cleaning Operations"
   ]
  },
  {
   "cell_type": "code",
   "execution_count": 30,
   "id": "74e58977-d48d-433d-9cc7-14056576d9f8",
   "metadata": {},
   "outputs": [],
   "source": [
    "def convert_to_minutes(ser):\n",
    "\treturn (\n",
    "\t\tser\n",
    "\t\t.str.split(\" \", expand=True)\n",
    "\t\t.set_axis([\"hour\", \"minute\"], axis=1)\n",
    "\t\t.assign(\n",
    "\t\t\thour=lambda df_: (\n",
    "\t\t\t\tdf_\n",
    "\t\t\t\t.hour\n",
    "\t\t\t\t.str.replace(\"h\", \"\")\n",
    "\t\t\t\t.astype(int)\n",
    "\t\t\t\t.mul(60)\n",
    "\t\t\t),\n",
    "\t\t\tminute=lambda df_: (\n",
    "\t\t\t\tdf_\n",
    "\t\t\t\t.minute\n",
    "\t\t\t\t.str.replace(\"m\", \"\")\n",
    "\t\t\t\t.fillna(\"0\")\n",
    "\t\t\t\t.astype(int)\n",
    "\t\t\t)\n",
    "\t\t)\n",
    "\t\t.sum(axis=1)\n",
    "\t)"
   ]
  },
  {
   "cell_type": "code",
   "execution_count": 31,
   "id": "b9c6ff40-8978-4cfa-9fd1-2cfffd9d97ed",
   "metadata": {},
   "outputs": [],
   "source": [
    "def clean_data(df):\n",
    "\treturn (\n",
    "\t\tdf\n",
    "\t\t.drop(index=[6474])\n",
    "\t\t.drop_duplicates()\n",
    "\t\t.assign(**{\n",
    "\t\t\tcol: df[col].str.strip()\n",
    "\t\t\tfor col in df.select_dtypes(include=\"O\").columns\n",
    "\t\t})\n",
    "\t\t.rename(columns=str.lower)\n",
    "\t\t.assign(\n",
    "\t\t\tairline=lambda df_: (\n",
    "\t\t\t\tdf_\n",
    "\t\t\t\t.airline\n",
    "\t\t\t\t.str.replace(\" Premium economy\", \"\")\n",
    "\t\t\t\t.str.replace(\" Business\", \"\")\n",
    "\t\t\t\t.str.title()\n",
    "\t\t\t),destination = lambda df_: (\n",
    "                df_\n",
    "\t             .destination\n",
    "\t             .str.replace(\"New \", \"\")\n",
    "\t             \n",
    "            ) , \n",
    "\t\t\tdate_of_journey=lambda df_: pd.to_datetime(df_.date_of_journey, dayfirst=True),\n",
    "\t\t\tdep_time=lambda df_: pd.to_datetime(df_.dep_time).dt.time,\n",
    "\t\t\tarrival_time=lambda df_: pd.to_datetime(df_.arrival_time).dt.time,\n",
    "\t\t\tduration=lambda df_: df_.duration.pipe(convert_to_minutes),\n",
    "\t\t\ttotal_stops=lambda df_: (\n",
    "\t\t\t\tdf_\n",
    "\t\t\t\t.total_stops\n",
    "\t\t\t\t.replace(\"non-stop\", \"0\")\n",
    "\t\t\t\t.str.replace(\" stops?\", \"\", regex=True)\n",
    "\t\t\t\t.pipe(lambda ser: pd.to_numeric(ser))\n",
    "\t\t\t),\n",
    "\t\t\tadditional_info=lambda df_: df_.additional_info.replace(\"No info\", \"No Info\")\n",
    "\t\t)\n",
    "\t\t.drop(columns=\"route\")\n",
    "\t)"
   ]
  },
  {
   "cell_type": "code",
   "execution_count": 32,
   "id": "9f59bcef-e5a8-40f0-8d9e-68210657200c",
   "metadata": {},
   "outputs": [
    {
     "name": "stderr",
     "output_type": "stream",
     "text": [
      "C:\\Users\\User\\AppData\\Local\\Temp\\ipykernel_20784\\2859885799.py:25: UserWarning: Could not infer format, so each element will be parsed individually, falling back to `dateutil`. To ensure parsing is consistent and as-expected, please specify a format.\n",
      "  dep_time=lambda df_: pd.to_datetime(df_.dep_time).dt.time,\n",
      "C:\\Users\\User\\AppData\\Local\\Temp\\ipykernel_20784\\2859885799.py:26: UserWarning: Could not infer format, so each element will be parsed individually, falling back to `dateutil`. To ensure parsing is consistent and as-expected, please specify a format.\n",
      "  arrival_time=lambda df_: pd.to_datetime(df_.arrival_time).dt.time,\n"
     ]
    },
    {
     "data": {
      "text/html": [
       "<div>\n",
       "<style scoped>\n",
       "    .dataframe tbody tr th:only-of-type {\n",
       "        vertical-align: middle;\n",
       "    }\n",
       "\n",
       "    .dataframe tbody tr th {\n",
       "        vertical-align: top;\n",
       "    }\n",
       "\n",
       "    .dataframe thead th {\n",
       "        text-align: right;\n",
       "    }\n",
       "</style>\n",
       "<table border=\"1\" class=\"dataframe\">\n",
       "  <thead>\n",
       "    <tr style=\"text-align: right;\">\n",
       "      <th></th>\n",
       "      <th>airline</th>\n",
       "      <th>date_of_journey</th>\n",
       "      <th>source</th>\n",
       "      <th>destination</th>\n",
       "      <th>dep_time</th>\n",
       "      <th>arrival_time</th>\n",
       "      <th>duration</th>\n",
       "      <th>total_stops</th>\n",
       "      <th>additional_info</th>\n",
       "      <th>price</th>\n",
       "    </tr>\n",
       "  </thead>\n",
       "  <tbody>\n",
       "    <tr>\n",
       "      <th>0</th>\n",
       "      <td>Indigo</td>\n",
       "      <td>2019-03-24</td>\n",
       "      <td>Banglore</td>\n",
       "      <td>Delhi</td>\n",
       "      <td>22:20:00</td>\n",
       "      <td>01:10:00</td>\n",
       "      <td>170</td>\n",
       "      <td>0</td>\n",
       "      <td>No Info</td>\n",
       "      <td>3897</td>\n",
       "    </tr>\n",
       "    <tr>\n",
       "      <th>1</th>\n",
       "      <td>Air India</td>\n",
       "      <td>2019-05-01</td>\n",
       "      <td>Kolkata</td>\n",
       "      <td>Banglore</td>\n",
       "      <td>05:50:00</td>\n",
       "      <td>13:15:00</td>\n",
       "      <td>445</td>\n",
       "      <td>2</td>\n",
       "      <td>No Info</td>\n",
       "      <td>7662</td>\n",
       "    </tr>\n",
       "    <tr>\n",
       "      <th>2</th>\n",
       "      <td>Jet Airways</td>\n",
       "      <td>2019-06-09</td>\n",
       "      <td>Delhi</td>\n",
       "      <td>Cochin</td>\n",
       "      <td>09:25:00</td>\n",
       "      <td>04:25:00</td>\n",
       "      <td>1140</td>\n",
       "      <td>2</td>\n",
       "      <td>No Info</td>\n",
       "      <td>13882</td>\n",
       "    </tr>\n",
       "    <tr>\n",
       "      <th>3</th>\n",
       "      <td>Indigo</td>\n",
       "      <td>2019-05-12</td>\n",
       "      <td>Kolkata</td>\n",
       "      <td>Banglore</td>\n",
       "      <td>18:05:00</td>\n",
       "      <td>23:30:00</td>\n",
       "      <td>325</td>\n",
       "      <td>1</td>\n",
       "      <td>No Info</td>\n",
       "      <td>6218</td>\n",
       "    </tr>\n",
       "    <tr>\n",
       "      <th>4</th>\n",
       "      <td>Indigo</td>\n",
       "      <td>2019-03-01</td>\n",
       "      <td>Banglore</td>\n",
       "      <td>Delhi</td>\n",
       "      <td>16:50:00</td>\n",
       "      <td>21:35:00</td>\n",
       "      <td>285</td>\n",
       "      <td>1</td>\n",
       "      <td>No Info</td>\n",
       "      <td>13302</td>\n",
       "    </tr>\n",
       "    <tr>\n",
       "      <th>...</th>\n",
       "      <td>...</td>\n",
       "      <td>...</td>\n",
       "      <td>...</td>\n",
       "      <td>...</td>\n",
       "      <td>...</td>\n",
       "      <td>...</td>\n",
       "      <td>...</td>\n",
       "      <td>...</td>\n",
       "      <td>...</td>\n",
       "      <td>...</td>\n",
       "    </tr>\n",
       "    <tr>\n",
       "      <th>10678</th>\n",
       "      <td>Air Asia</td>\n",
       "      <td>2019-04-09</td>\n",
       "      <td>Kolkata</td>\n",
       "      <td>Banglore</td>\n",
       "      <td>19:55:00</td>\n",
       "      <td>22:25:00</td>\n",
       "      <td>150</td>\n",
       "      <td>0</td>\n",
       "      <td>No Info</td>\n",
       "      <td>4107</td>\n",
       "    </tr>\n",
       "    <tr>\n",
       "      <th>10679</th>\n",
       "      <td>Air India</td>\n",
       "      <td>2019-04-27</td>\n",
       "      <td>Kolkata</td>\n",
       "      <td>Banglore</td>\n",
       "      <td>20:45:00</td>\n",
       "      <td>23:20:00</td>\n",
       "      <td>155</td>\n",
       "      <td>0</td>\n",
       "      <td>No Info</td>\n",
       "      <td>4145</td>\n",
       "    </tr>\n",
       "    <tr>\n",
       "      <th>10680</th>\n",
       "      <td>Jet Airways</td>\n",
       "      <td>2019-04-27</td>\n",
       "      <td>Banglore</td>\n",
       "      <td>Delhi</td>\n",
       "      <td>08:20:00</td>\n",
       "      <td>11:20:00</td>\n",
       "      <td>180</td>\n",
       "      <td>0</td>\n",
       "      <td>No Info</td>\n",
       "      <td>7229</td>\n",
       "    </tr>\n",
       "    <tr>\n",
       "      <th>10681</th>\n",
       "      <td>Vistara</td>\n",
       "      <td>2019-03-01</td>\n",
       "      <td>Banglore</td>\n",
       "      <td>Delhi</td>\n",
       "      <td>11:30:00</td>\n",
       "      <td>14:10:00</td>\n",
       "      <td>160</td>\n",
       "      <td>0</td>\n",
       "      <td>No Info</td>\n",
       "      <td>12648</td>\n",
       "    </tr>\n",
       "    <tr>\n",
       "      <th>10682</th>\n",
       "      <td>Air India</td>\n",
       "      <td>2019-05-09</td>\n",
       "      <td>Delhi</td>\n",
       "      <td>Cochin</td>\n",
       "      <td>10:55:00</td>\n",
       "      <td>19:15:00</td>\n",
       "      <td>500</td>\n",
       "      <td>2</td>\n",
       "      <td>No Info</td>\n",
       "      <td>11753</td>\n",
       "    </tr>\n",
       "  </tbody>\n",
       "</table>\n",
       "<p>10461 rows × 10 columns</p>\n",
       "</div>"
      ],
      "text/plain": [
       "           airline date_of_journey    source destination  dep_time  \\\n",
       "0           Indigo      2019-03-24  Banglore       Delhi  22:20:00   \n",
       "1        Air India      2019-05-01   Kolkata    Banglore  05:50:00   \n",
       "2      Jet Airways      2019-06-09     Delhi      Cochin  09:25:00   \n",
       "3           Indigo      2019-05-12   Kolkata    Banglore  18:05:00   \n",
       "4           Indigo      2019-03-01  Banglore       Delhi  16:50:00   \n",
       "...            ...             ...       ...         ...       ...   \n",
       "10678     Air Asia      2019-04-09   Kolkata    Banglore  19:55:00   \n",
       "10679    Air India      2019-04-27   Kolkata    Banglore  20:45:00   \n",
       "10680  Jet Airways      2019-04-27  Banglore       Delhi  08:20:00   \n",
       "10681      Vistara      2019-03-01  Banglore       Delhi  11:30:00   \n",
       "10682    Air India      2019-05-09     Delhi      Cochin  10:55:00   \n",
       "\n",
       "      arrival_time  duration  total_stops additional_info  price  \n",
       "0         01:10:00       170            0         No Info   3897  \n",
       "1         13:15:00       445            2         No Info   7662  \n",
       "2         04:25:00      1140            2         No Info  13882  \n",
       "3         23:30:00       325            1         No Info   6218  \n",
       "4         21:35:00       285            1         No Info  13302  \n",
       "...            ...       ...          ...             ...    ...  \n",
       "10678     22:25:00       150            0         No Info   4107  \n",
       "10679     23:20:00       155            0         No Info   4145  \n",
       "10680     11:20:00       180            0         No Info   7229  \n",
       "10681     14:10:00       160            0         No Info  12648  \n",
       "10682     19:15:00       500            2         No Info  11753  \n",
       "\n",
       "[10461 rows x 10 columns]"
      ]
     },
     "execution_count": 32,
     "metadata": {},
     "output_type": "execute_result"
    }
   ],
   "source": [
    "flights_cleaned = clean_data(flights)\n",
    "flights_cleaned"
   ]
  },
  {
   "cell_type": "code",
   "execution_count": 36,
   "id": "0faec9d1-8e9b-4de9-b946-bdf9297dacc8",
   "metadata": {},
   "outputs": [
    {
     "name": "stdout",
     "output_type": "stream",
     "text": [
      "<class 'pandas.core.frame.DataFrame'>\n",
      "Index: 10461 entries, 0 to 10682\n",
      "Data columns (total 10 columns):\n",
      " #   Column           Non-Null Count  Dtype         \n",
      "---  ------           --------------  -----         \n",
      " 0   airline          10461 non-null  object        \n",
      " 1   date_of_journey  10461 non-null  datetime64[ns]\n",
      " 2   source           10461 non-null  object        \n",
      " 3   destination      10461 non-null  object        \n",
      " 4   dep_time         10461 non-null  object        \n",
      " 5   arrival_time     10461 non-null  object        \n",
      " 6   duration         10461 non-null  int64         \n",
      " 7   total_stops      10461 non-null  int64         \n",
      " 8   additional_info  10461 non-null  object        \n",
      " 9   price            10461 non-null  int64         \n",
      "dtypes: datetime64[ns](1), int64(3), object(6)\n",
      "memory usage: 899.0+ KB\n"
     ]
    }
   ],
   "source": [
    "flights_cleaned.info()"
   ]
  },
  {
   "cell_type": "code",
   "execution_count": 35,
   "id": "71c723f7-e124-463b-b376-bfe53155d4b7",
   "metadata": {},
   "outputs": [
    {
     "data": {
      "text/plain": [
       "array(['Banglore', 'Kolkata', 'Delhi', 'Chennai', 'Mumbai'], dtype=object)"
      ]
     },
     "execution_count": 35,
     "metadata": {},
     "output_type": "execute_result"
    }
   ],
   "source": [
    "flights_cleaned.source.unique()"
   ]
  },
  {
   "cell_type": "code",
   "execution_count": 44,
   "id": "ecf6d681-9fdd-4262-8d39-1b9f45fd1ab6",
   "metadata": {},
   "outputs": [
    {
     "name": "stdout",
     "output_type": "stream",
     "text": [
      "['Indigo' 'Air India' 'Jet Airways' 'Spicejet' 'Multiple Carriers' 'Goair'\n",
      " 'Vistara' 'Air Asia' 'Trujet']\n",
      "<DatetimeArray>\n",
      "['2019-03-24 00:00:00', '2019-05-01 00:00:00', '2019-06-09 00:00:00',\n",
      " '2019-05-12 00:00:00', '2019-03-01 00:00:00', '2019-06-24 00:00:00',\n",
      " '2019-03-12 00:00:00', '2019-05-27 00:00:00', '2019-06-01 00:00:00',\n",
      " '2019-04-18 00:00:00', '2019-05-09 00:00:00', '2019-04-24 00:00:00',\n",
      " '2019-03-03 00:00:00', '2019-04-15 00:00:00', '2019-06-12 00:00:00',\n",
      " '2019-03-06 00:00:00', '2019-03-21 00:00:00', '2019-04-03 00:00:00',\n",
      " '2019-05-06 00:00:00', '2019-05-15 00:00:00', '2019-06-18 00:00:00',\n",
      " '2019-06-15 00:00:00', '2019-04-06 00:00:00', '2019-05-18 00:00:00',\n",
      " '2019-06-27 00:00:00', '2019-05-21 00:00:00', '2019-06-03 00:00:00',\n",
      " '2019-03-15 00:00:00', '2019-05-03 00:00:00', '2019-03-09 00:00:00',\n",
      " '2019-06-06 00:00:00', '2019-05-24 00:00:00', '2019-04-01 00:00:00',\n",
      " '2019-04-21 00:00:00', '2019-06-21 00:00:00', '2019-03-27 00:00:00',\n",
      " '2019-03-18 00:00:00', '2019-04-12 00:00:00', '2019-04-09 00:00:00',\n",
      " '2019-04-27 00:00:00']\n",
      "Length: 40, dtype: datetime64[ns]\n",
      "['Banglore' 'Kolkata' 'Delhi' 'Chennai' 'Mumbai']\n",
      "['Delhi' 'Banglore' 'Cochin' 'Kolkata' 'Hyderabad']\n",
      "[datetime.time(22, 20) datetime.time(5, 50) datetime.time(9, 25)\n",
      " datetime.time(18, 5) datetime.time(16, 50) datetime.time(9, 0)\n",
      " datetime.time(18, 55) datetime.time(8, 0) datetime.time(8, 55)\n",
      " datetime.time(11, 25) datetime.time(9, 45) datetime.time(20, 20)\n",
      " datetime.time(11, 40) datetime.time(21, 10) datetime.time(17, 15)\n",
      " datetime.time(16, 40) datetime.time(8, 45) datetime.time(14, 0)\n",
      " datetime.time(20, 15) datetime.time(16, 0) datetime.time(14, 10)\n",
      " datetime.time(22, 0) datetime.time(4, 0) datetime.time(21, 25)\n",
      " datetime.time(21, 50) datetime.time(7, 0) datetime.time(7, 5)\n",
      " datetime.time(9, 50) datetime.time(14, 35) datetime.time(10, 35)\n",
      " datetime.time(15, 5) datetime.time(14, 15) datetime.time(6, 45)\n",
      " datetime.time(20, 55) datetime.time(11, 10) datetime.time(5, 45)\n",
      " datetime.time(19, 0) datetime.time(23, 5) datetime.time(11, 0)\n",
      " datetime.time(9, 35) datetime.time(21, 15) datetime.time(23, 55)\n",
      " datetime.time(19, 45) datetime.time(8, 50) datetime.time(15, 40)\n",
      " datetime.time(6, 5) datetime.time(15, 0) datetime.time(13, 55)\n",
      " datetime.time(5, 55) datetime.time(13, 20) datetime.time(5, 5)\n",
      " datetime.time(6, 25) datetime.time(17, 30) datetime.time(8, 20)\n",
      " datetime.time(19, 55) datetime.time(6, 30) datetime.time(14, 5)\n",
      " datetime.time(2, 0) datetime.time(9, 40) datetime.time(8, 25)\n",
      " datetime.time(20, 25) datetime.time(13, 15) datetime.time(2, 15)\n",
      " datetime.time(16, 55) datetime.time(20, 45) datetime.time(5, 15)\n",
      " datetime.time(19, 50) datetime.time(20, 0) datetime.time(6, 10)\n",
      " datetime.time(19, 30) datetime.time(4, 45) datetime.time(12, 55)\n",
      " datetime.time(18, 15) datetime.time(17, 20) datetime.time(15, 25)\n",
      " datetime.time(23, 0) datetime.time(12, 0) datetime.time(14, 45)\n",
      " datetime.time(11, 50) datetime.time(11, 30) datetime.time(14, 40)\n",
      " datetime.time(19, 10) datetime.time(6, 0) datetime.time(23, 30)\n",
      " datetime.time(7, 35) datetime.time(13, 5) datetime.time(12, 30)\n",
      " datetime.time(15, 10) datetime.time(12, 50) datetime.time(18, 25)\n",
      " datetime.time(16, 30) datetime.time(0, 40) datetime.time(6, 50)\n",
      " datetime.time(13, 0) datetime.time(19, 15) datetime.time(1, 30)\n",
      " datetime.time(17, 0) datetime.time(10, 0) datetime.time(19, 35)\n",
      " datetime.time(15, 30) datetime.time(12, 10) datetime.time(16, 10)\n",
      " datetime.time(20, 35) datetime.time(22, 25) datetime.time(21, 5)\n",
      " datetime.time(5, 35) datetime.time(5, 10) datetime.time(6, 40)\n",
      " datetime.time(15, 15) datetime.time(0, 30) datetime.time(8, 30)\n",
      " datetime.time(7, 10) datetime.time(5, 30) datetime.time(14, 25)\n",
      " datetime.time(5, 25) datetime.time(10, 20) datetime.time(17, 45)\n",
      " datetime.time(13, 10) datetime.time(22, 10) datetime.time(4, 55)\n",
      " datetime.time(17, 50) datetime.time(21, 20) datetime.time(6, 20)\n",
      " datetime.time(15, 55) datetime.time(20, 30) datetime.time(17, 25)\n",
      " datetime.time(9, 30) datetime.time(7, 30) datetime.time(2, 35)\n",
      " datetime.time(10, 55) datetime.time(17, 10) datetime.time(9, 10)\n",
      " datetime.time(18, 45) datetime.time(15, 20) datetime.time(22, 50)\n",
      " datetime.time(14, 55) datetime.time(14, 20) datetime.time(13, 25)\n",
      " datetime.time(22, 15) datetime.time(11, 5) datetime.time(16, 15)\n",
      " datetime.time(20, 10) datetime.time(6, 55) datetime.time(19, 5)\n",
      " datetime.time(7, 55) datetime.time(7, 45) datetime.time(10, 10)\n",
      " datetime.time(8, 15) datetime.time(11, 35) datetime.time(21, 0)\n",
      " datetime.time(17, 55) datetime.time(16, 45) datetime.time(18, 20)\n",
      " datetime.time(3, 50) datetime.time(8, 35) datetime.time(19, 20)\n",
      " datetime.time(20, 5) datetime.time(17, 40) datetime.time(4, 40)\n",
      " datetime.time(17, 35) datetime.time(9, 55) datetime.time(5, 0)\n",
      " datetime.time(18, 0) datetime.time(2, 55) datetime.time(20, 40)\n",
      " datetime.time(22, 55) datetime.time(22, 40) datetime.time(21, 30)\n",
      " datetime.time(8, 10) datetime.time(17, 5) datetime.time(7, 25)\n",
      " datetime.time(15, 45) datetime.time(9, 15) datetime.time(15, 50)\n",
      " datetime.time(11, 45) datetime.time(22, 5) datetime.time(18, 35)\n",
      " datetime.time(0, 25) datetime.time(19, 40) datetime.time(20, 50)\n",
      " datetime.time(22, 45) datetime.time(10, 30) datetime.time(23, 25)\n",
      " datetime.time(11, 55) datetime.time(10, 45) datetime.time(11, 15)\n",
      " datetime.time(12, 20) datetime.time(14, 30) datetime.time(7, 15)\n",
      " datetime.time(1, 35) datetime.time(18, 40) datetime.time(9, 20)\n",
      " datetime.time(21, 55) datetime.time(13, 50) datetime.time(1, 40)\n",
      " datetime.time(0, 20) datetime.time(4, 15) datetime.time(13, 45)\n",
      " datetime.time(18, 30) datetime.time(6, 15) datetime.time(2, 5)\n",
      " datetime.time(12, 15) datetime.time(13, 30) datetime.time(6, 35)\n",
      " datetime.time(10, 5) datetime.time(8, 40) datetime.time(3, 5)\n",
      " datetime.time(21, 35) datetime.time(16, 35) datetime.time(2, 30)\n",
      " datetime.time(16, 25) datetime.time(5, 40) datetime.time(15, 35)\n",
      " datetime.time(13, 40) datetime.time(7, 20) datetime.time(4, 50)\n",
      " datetime.time(12, 45) datetime.time(10, 25) datetime.time(12, 5)\n",
      " datetime.time(11, 20) datetime.time(21, 40) datetime.time(3, 0)]\n",
      "[datetime.time(1, 10) datetime.time(13, 15) datetime.time(4, 25)\n",
      " datetime.time(23, 30) datetime.time(21, 35) datetime.time(11, 25)\n",
      " datetime.time(10, 25) datetime.time(5, 5) datetime.time(19, 15)\n",
      " datetime.time(23, 0) datetime.time(22, 55) datetime.time(13, 55)\n",
      " datetime.time(9, 20) datetime.time(19, 50) datetime.time(12, 35)\n",
      " datetime.time(19, 20) datetime.time(13, 20) datetime.time(6, 50)\n",
      " datetime.time(21, 50) datetime.time(8, 15) datetime.time(3, 35)\n",
      " datetime.time(12, 55) datetime.time(23, 15) datetime.time(21, 0)\n",
      " datetime.time(20, 20) datetime.time(16, 45) datetime.time(19, 0)\n",
      " datetime.time(18, 10) datetime.time(15, 15) datetime.time(8, 35)\n",
      " datetime.time(11, 5) datetime.time(14, 15) datetime.time(10, 55)\n",
      " datetime.time(0, 15) datetime.time(2, 45) datetime.time(12, 0)\n",
      " datetime.time(23, 55) datetime.time(1, 30) datetime.time(9, 25)\n",
      " datetime.time(15, 25) datetime.time(15, 35) datetime.time(8, 30)\n",
      " datetime.time(10, 5) datetime.time(14, 30) datetime.time(7, 55)\n",
      " datetime.time(10, 35) datetime.time(22, 35) datetime.time(4, 40)\n",
      " datetime.time(7, 25) datetime.time(20, 45) datetime.time(14, 25)\n",
      " datetime.time(22, 30) datetime.time(23, 20) datetime.time(7, 40)\n",
      " datetime.time(22, 50) datetime.time(14, 35) datetime.time(8, 55)\n",
      " datetime.time(18, 50) datetime.time(9, 5) datetime.time(1, 35)\n",
      " datetime.time(9, 40) datetime.time(16, 25) datetime.time(11, 10)\n",
      " datetime.time(17, 5) datetime.time(17, 50) datetime.time(23, 10)\n",
      " datetime.time(8, 45) datetime.time(7, 45) datetime.time(16, 10)\n",
      " datetime.time(0, 55) datetime.time(23, 35) datetime.time(20, 0)\n",
      " datetime.time(0, 40) datetime.time(21, 45) datetime.time(18, 15)\n",
      " datetime.time(3, 25) datetime.time(4, 15) datetime.time(21, 10)\n",
      " datetime.time(21, 5) datetime.time(9, 45) datetime.time(18, 5)\n",
      " datetime.time(22, 0) datetime.time(15, 30) datetime.time(8, 50)\n",
      " datetime.time(8, 0) datetime.time(19, 35) datetime.time(11, 20)\n",
      " datetime.time(10, 15) datetime.time(12, 45) datetime.time(2, 20)\n",
      " datetime.time(7, 15) datetime.time(11, 50) datetime.time(18, 30)\n",
      " datetime.time(19, 45) datetime.time(21, 20) datetime.time(20, 5)\n",
      " datetime.time(9, 10) datetime.time(22, 20) datetime.time(10, 10)\n",
      " datetime.time(1, 0) datetime.time(23, 50) datetime.time(12, 20)\n",
      " datetime.time(20, 25) datetime.time(22, 45) datetime.time(21, 25)\n",
      " datetime.time(14, 5) datetime.time(0, 5) datetime.time(19, 55)\n",
      " datetime.time(16, 20) datetime.time(7, 5) datetime.time(19, 10)\n",
      " datetime.time(12, 5) datetime.time(4, 5) datetime.time(19, 40)\n",
      " datetime.time(17, 55) datetime.time(17, 25) datetime.time(0, 30)\n",
      " datetime.time(23, 40) datetime.time(23, 5) datetime.time(0, 50)\n",
      " datetime.time(13, 45) datetime.time(9, 15) datetime.time(20, 35)\n",
      " datetime.time(7, 10) datetime.time(9, 35) datetime.time(14, 20)\n",
      " datetime.time(4, 45) datetime.time(10, 30) datetime.time(19, 25)\n",
      " datetime.time(5, 35) datetime.time(9, 0) datetime.time(22, 40)\n",
      " datetime.time(14, 45) datetime.time(13, 25) datetime.time(21, 55)\n",
      " datetime.time(10, 45) datetime.time(10, 40) datetime.time(13, 0)\n",
      " datetime.time(22, 10) datetime.time(18, 35) datetime.time(5, 25)\n",
      " datetime.time(22, 15) datetime.time(12, 10) datetime.time(12, 15)\n",
      " datetime.time(14, 0) datetime.time(2, 15) datetime.time(12, 50)\n",
      " datetime.time(17, 15) datetime.time(7, 35) datetime.time(23, 45)\n",
      " datetime.time(22, 25) datetime.time(12, 25) datetime.time(6, 35)\n",
      " datetime.time(1, 20) datetime.time(18, 45) datetime.time(9, 30)\n",
      " datetime.time(4, 20) datetime.time(10, 50) datetime.time(23, 25)\n",
      " datetime.time(22, 5) datetime.time(13, 30) datetime.time(13, 35)\n",
      " datetime.time(17, 35) datetime.time(8, 20) datetime.time(18, 25)\n",
      " datetime.time(10, 20) datetime.time(15, 50) datetime.time(11, 30)\n",
      " datetime.time(14, 10) datetime.time(0, 25) datetime.time(3, 15)\n",
      " datetime.time(15, 55) datetime.time(0, 45) datetime.time(4, 35)\n",
      " datetime.time(18, 0) datetime.time(12, 30) datetime.time(2, 10)\n",
      " datetime.time(0, 20) datetime.time(21, 40) datetime.time(8, 40)\n",
      " datetime.time(16, 55) datetime.time(20, 30) datetime.time(17, 20)\n",
      " datetime.time(0, 35) datetime.time(20, 15) datetime.time(14, 50)\n",
      " datetime.time(13, 40) datetime.time(16, 50) datetime.time(15, 5)\n",
      " datetime.time(17, 45) datetime.time(18, 40) datetime.time(3, 10)\n",
      " datetime.time(16, 40) datetime.time(9, 50) datetime.time(13, 5)\n",
      " datetime.time(17, 40) datetime.time(20, 40) datetime.time(17, 10)\n",
      " datetime.time(20, 50) datetime.time(0, 10) datetime.time(8, 10)\n",
      " datetime.time(16, 15) datetime.time(16, 5) datetime.time(10, 0)\n",
      " datetime.time(16, 35) datetime.time(18, 20) datetime.time(4, 0)\n",
      " datetime.time(21, 15) datetime.time(14, 40) datetime.time(1, 45)\n",
      " datetime.time(16, 30) datetime.time(11, 55) datetime.time(15, 20)\n",
      " datetime.time(20, 10) datetime.time(15, 0) datetime.time(15, 45)\n",
      " datetime.time(12, 40) datetime.time(15, 10) datetime.time(13, 10)\n",
      " datetime.time(11, 15) datetime.time(3, 40) datetime.time(16, 0)\n",
      " datetime.time(11, 35)]\n",
      "[ 170  445 1140  325  285  145  930 1265 1530  470  795  155  135  730\n",
      " 1595  270 1355 1380 1235  310  920  175  800  910  345  355  805 1320\n",
      "  330  625  315  150  375  715  665  510 1325  165  720  965 1195  195\n",
      " 1520  180  975  905  390 1505  745 1640  615  630   90   85 1590  440\n",
      "  810  300 1145  890  160 1330  575  600 1280 1125  740 1080  555 1050\n",
      "  995  735  450 1440  535  430  870 1820  900  765  610  925  845 1215\n",
      " 1390 1090  960  140  480 1015  190  840 1430 1300 1275  650  495  515\n",
      "  710 1655  505 1255  290  490 1465 1415 1545 1570 1730 1515  560  550\n",
      "  185  690  570 1055  305 1550 1200  780 1105 1450  295 1535  380 1120\n",
      " 1165 1760  545  645  700 1375 2245 1540  835  520 1410  755 1455   80\n",
      "  660  675  875  775  540  460  705 1495 1025 1795 1335  880  435 1210\n",
      " 1245 1620 1470 1225  335  885  340  245  955  465 1700  260  220  530\n",
      " 1425 1485 1295  485  385  950 1585 1490 1560 1385  475 1580 1395  320\n",
      "  240  585  500 1045  425 2045  365  350  420  265  825 1155 1350  985\n",
      "  830 1625 1690  280  940  275 1110 2295  395  750  680  455 1775 1615\n",
      " 1420  770  590 1315  655 1270 1240 1800  790  525  370 1065 1305  235\n",
      " 1040 1830 1285  760 1475 1150 1360  895 1260  405 1720  580 1000  980\n",
      " 1005   75  415  685  860  725 1445 1695 1070 1220 1685  620  855 2115\n",
      " 2135 1600 1680  865  785 2240 2170 1555 2105 1185 1675 2820  635   95\n",
      "  970 2300  360 1010  850 1400 1060  695 1100  400 1855 1480 1790 1705\n",
      " 1035 1365 1525 1310 1995 1815  215 1660 1825 1130 1665  915  640 1575\n",
      " 2185 1610  945 1180 1345 1175 1500 1605 2280  255 1510 1095  410 1435\n",
      " 1075 1405 1030 1460 1710 1630 1160  935  565 1290 2065 1115 1780 1565\n",
      " 1745 1645  990  670 1735 1750 2040 1840 1845 1975  605 2120 1925 1900\n",
      " 1190 2025 1810  820 1170 1890 2070 1670 2315 2525  250 2345  230 1950\n",
      " 1915 2000 1650 1135  595 2480 1205 1910 2565  205 2230 1770 1940 1250\n",
      " 2420  815 2860]\n",
      "[0 2 1 3 4]\n",
      "['No Info' 'In-flight meal not included' 'No check-in baggage included'\n",
      " '1 Short layover' '1 Long layover' 'Change airports' 'Business class'\n",
      " 'Red-eye flight' '2 Long layover']\n",
      "[ 3897  7662 13882 ...  9790 12352 12648]\n"
     ]
    }
   ],
   "source": [
    "for col in flights_cleaned.columns:\n",
    "    print(flights_cleaned[col].unique())"
   ]
  },
  {
   "cell_type": "markdown",
   "id": "b60b329e-424a-46f2-8225-af3abe4a85dc",
   "metadata": {},
   "source": [
    "## Splitting Data"
   ]
  },
  {
   "cell_type": "code",
   "execution_count": 36,
   "id": "0ceef966-3017-4084-be6c-13579457a26b",
   "metadata": {},
   "outputs": [],
   "source": [
    "X = flights_cleaned.drop(columns=\"price\")\n",
    "y = flights_cleaned.price.copy()"
   ]
  },
  {
   "cell_type": "code",
   "execution_count": 37,
   "id": "446f8b9a-7c82-42dc-90b7-6f7f27a9cb09",
   "metadata": {},
   "outputs": [
    {
     "name": "stdout",
     "output_type": "stream",
     "text": [
      "(6694, 9) (6694,)\n",
      "(1674, 9) (1674,)\n",
      "(2093, 9) (2093,)\n"
     ]
    }
   ],
   "source": [
    "X_, X_test, y_, y_test = train_test_split(X, y, test_size=0.2, random_state=42)\n",
    "X_train, X_val, y_train, y_val = train_test_split(X_, y_, test_size=0.2, random_state=42)\n",
    "\n",
    "print(X_train.shape, y_train.shape)\n",
    "print(X_val.shape, y_val.shape)\n",
    "print(X_test.shape, y_test.shape)"
   ]
  },
  {
   "cell_type": "markdown",
   "id": "842bc826-ace7-4c8a-9c1f-261097a25046",
   "metadata": {},
   "source": [
    "## Exporting the Subsets"
   ]
  },
  {
   "cell_type": "code",
   "execution_count": 38,
   "id": "e7e07c76-78cd-41db-a729-2a06b0ee3127",
   "metadata": {},
   "outputs": [],
   "source": [
    "def export_data(X, y, name):\n",
    "\tfile_name = f\"{name}.csv\"\n",
    "\tfile_path = os.path.join(PROJECT_DIR, DATA_DIR, file_name)\n",
    "\n",
    "\tX.join(y).to_csv(file_path, index=False)\n",
    "\n",
    "\treturn pd.read_csv(file_path).head()"
   ]
  },
  {
   "cell_type": "code",
   "execution_count": 39,
   "id": "a15065a8-cf28-4b6a-8461-e527219468a9",
   "metadata": {},
   "outputs": [
    {
     "data": {
      "text/html": [
       "<div>\n",
       "<style scoped>\n",
       "    .dataframe tbody tr th:only-of-type {\n",
       "        vertical-align: middle;\n",
       "    }\n",
       "\n",
       "    .dataframe tbody tr th {\n",
       "        vertical-align: top;\n",
       "    }\n",
       "\n",
       "    .dataframe thead th {\n",
       "        text-align: right;\n",
       "    }\n",
       "</style>\n",
       "<table border=\"1\" class=\"dataframe\">\n",
       "  <thead>\n",
       "    <tr style=\"text-align: right;\">\n",
       "      <th></th>\n",
       "      <th>airline</th>\n",
       "      <th>date_of_journey</th>\n",
       "      <th>source</th>\n",
       "      <th>destination</th>\n",
       "      <th>dep_time</th>\n",
       "      <th>arrival_time</th>\n",
       "      <th>duration</th>\n",
       "      <th>total_stops</th>\n",
       "      <th>additional_info</th>\n",
       "      <th>price</th>\n",
       "    </tr>\n",
       "  </thead>\n",
       "  <tbody>\n",
       "    <tr>\n",
       "      <th>0</th>\n",
       "      <td>Jet Airways</td>\n",
       "      <td>2019-05-27</td>\n",
       "      <td>Delhi</td>\n",
       "      <td>Cochin</td>\n",
       "      <td>20:55:00</td>\n",
       "      <td>12:35:00</td>\n",
       "      <td>940</td>\n",
       "      <td>1</td>\n",
       "      <td>In-flight meal not included</td>\n",
       "      <td>12898</td>\n",
       "    </tr>\n",
       "    <tr>\n",
       "      <th>1</th>\n",
       "      <td>Jet Airways</td>\n",
       "      <td>2019-06-12</td>\n",
       "      <td>Kolkata</td>\n",
       "      <td>Banglore</td>\n",
       "      <td>18:55:00</td>\n",
       "      <td>16:20:00</td>\n",
       "      <td>1285</td>\n",
       "      <td>1</td>\n",
       "      <td>No Info</td>\n",
       "      <td>13044</td>\n",
       "    </tr>\n",
       "    <tr>\n",
       "      <th>2</th>\n",
       "      <td>Air India</td>\n",
       "      <td>2019-05-18</td>\n",
       "      <td>Delhi</td>\n",
       "      <td>Cochin</td>\n",
       "      <td>09:45:00</td>\n",
       "      <td>09:25:00</td>\n",
       "      <td>1420</td>\n",
       "      <td>2</td>\n",
       "      <td>No Info</td>\n",
       "      <td>10975</td>\n",
       "    </tr>\n",
       "    <tr>\n",
       "      <th>3</th>\n",
       "      <td>Indigo</td>\n",
       "      <td>2019-06-03</td>\n",
       "      <td>Mumbai</td>\n",
       "      <td>Hyderabad</td>\n",
       "      <td>21:20:00</td>\n",
       "      <td>22:50:00</td>\n",
       "      <td>90</td>\n",
       "      <td>0</td>\n",
       "      <td>No Info</td>\n",
       "      <td>2227</td>\n",
       "    </tr>\n",
       "    <tr>\n",
       "      <th>4</th>\n",
       "      <td>Jet Airways</td>\n",
       "      <td>2019-04-01</td>\n",
       "      <td>Mumbai</td>\n",
       "      <td>Hyderabad</td>\n",
       "      <td>02:55:00</td>\n",
       "      <td>04:20:00</td>\n",
       "      <td>85</td>\n",
       "      <td>0</td>\n",
       "      <td>No Info</td>\n",
       "      <td>5678</td>\n",
       "    </tr>\n",
       "  </tbody>\n",
       "</table>\n",
       "</div>"
      ],
      "text/plain": [
       "       airline date_of_journey   source destination  dep_time arrival_time  \\\n",
       "0  Jet Airways      2019-05-27    Delhi      Cochin  20:55:00     12:35:00   \n",
       "1  Jet Airways      2019-06-12  Kolkata    Banglore  18:55:00     16:20:00   \n",
       "2    Air India      2019-05-18    Delhi      Cochin  09:45:00     09:25:00   \n",
       "3       Indigo      2019-06-03   Mumbai   Hyderabad  21:20:00     22:50:00   \n",
       "4  Jet Airways      2019-04-01   Mumbai   Hyderabad  02:55:00     04:20:00   \n",
       "\n",
       "   duration  total_stops              additional_info  price  \n",
       "0       940            1  In-flight meal not included  12898  \n",
       "1      1285            1                      No Info  13044  \n",
       "2      1420            2                      No Info  10975  \n",
       "3        90            0                      No Info   2227  \n",
       "4        85            0                      No Info   5678  "
      ]
     },
     "execution_count": 39,
     "metadata": {},
     "output_type": "execute_result"
    }
   ],
   "source": [
    "export_data(X_train, y_train, \"train\")"
   ]
  },
  {
   "cell_type": "code",
   "execution_count": 40,
   "id": "6f660b90-cf73-45ce-896a-cecc10e1fff6",
   "metadata": {},
   "outputs": [
    {
     "data": {
      "text/html": [
       "<div>\n",
       "<style scoped>\n",
       "    .dataframe tbody tr th:only-of-type {\n",
       "        vertical-align: middle;\n",
       "    }\n",
       "\n",
       "    .dataframe tbody tr th {\n",
       "        vertical-align: top;\n",
       "    }\n",
       "\n",
       "    .dataframe thead th {\n",
       "        text-align: right;\n",
       "    }\n",
       "</style>\n",
       "<table border=\"1\" class=\"dataframe\">\n",
       "  <thead>\n",
       "    <tr style=\"text-align: right;\">\n",
       "      <th></th>\n",
       "      <th>airline</th>\n",
       "      <th>date_of_journey</th>\n",
       "      <th>source</th>\n",
       "      <th>destination</th>\n",
       "      <th>dep_time</th>\n",
       "      <th>arrival_time</th>\n",
       "      <th>duration</th>\n",
       "      <th>total_stops</th>\n",
       "      <th>additional_info</th>\n",
       "      <th>price</th>\n",
       "    </tr>\n",
       "  </thead>\n",
       "  <tbody>\n",
       "    <tr>\n",
       "      <th>0</th>\n",
       "      <td>Jet Airways</td>\n",
       "      <td>2019-05-27</td>\n",
       "      <td>Delhi</td>\n",
       "      <td>Cochin</td>\n",
       "      <td>09:00:00</td>\n",
       "      <td>19:00:00</td>\n",
       "      <td>600</td>\n",
       "      <td>1</td>\n",
       "      <td>In-flight meal not included</td>\n",
       "      <td>10675</td>\n",
       "    </tr>\n",
       "    <tr>\n",
       "      <th>1</th>\n",
       "      <td>Jet Airways</td>\n",
       "      <td>2019-05-24</td>\n",
       "      <td>Kolkata</td>\n",
       "      <td>Banglore</td>\n",
       "      <td>18:55:00</td>\n",
       "      <td>10:05:00</td>\n",
       "      <td>910</td>\n",
       "      <td>1</td>\n",
       "      <td>In-flight meal not included</td>\n",
       "      <td>8586</td>\n",
       "    </tr>\n",
       "    <tr>\n",
       "      <th>2</th>\n",
       "      <td>Jet Airways</td>\n",
       "      <td>2019-03-18</td>\n",
       "      <td>Banglore</td>\n",
       "      <td>Delhi</td>\n",
       "      <td>21:25:00</td>\n",
       "      <td>09:30:00</td>\n",
       "      <td>725</td>\n",
       "      <td>1</td>\n",
       "      <td>No Info</td>\n",
       "      <td>13555</td>\n",
       "    </tr>\n",
       "    <tr>\n",
       "      <th>3</th>\n",
       "      <td>Spicejet</td>\n",
       "      <td>2019-06-27</td>\n",
       "      <td>Chennai</td>\n",
       "      <td>Kolkata</td>\n",
       "      <td>17:45:00</td>\n",
       "      <td>20:05:00</td>\n",
       "      <td>140</td>\n",
       "      <td>0</td>\n",
       "      <td>No check-in baggage included</td>\n",
       "      <td>3543</td>\n",
       "    </tr>\n",
       "    <tr>\n",
       "      <th>4</th>\n",
       "      <td>Air Asia</td>\n",
       "      <td>2019-05-15</td>\n",
       "      <td>Kolkata</td>\n",
       "      <td>Banglore</td>\n",
       "      <td>07:35:00</td>\n",
       "      <td>19:25:00</td>\n",
       "      <td>710</td>\n",
       "      <td>1</td>\n",
       "      <td>No Info</td>\n",
       "      <td>5192</td>\n",
       "    </tr>\n",
       "  </tbody>\n",
       "</table>\n",
       "</div>"
      ],
      "text/plain": [
       "       airline date_of_journey    source destination  dep_time arrival_time  \\\n",
       "0  Jet Airways      2019-05-27     Delhi      Cochin  09:00:00     19:00:00   \n",
       "1  Jet Airways      2019-05-24   Kolkata    Banglore  18:55:00     10:05:00   \n",
       "2  Jet Airways      2019-03-18  Banglore       Delhi  21:25:00     09:30:00   \n",
       "3     Spicejet      2019-06-27   Chennai     Kolkata  17:45:00     20:05:00   \n",
       "4     Air Asia      2019-05-15   Kolkata    Banglore  07:35:00     19:25:00   \n",
       "\n",
       "   duration  total_stops               additional_info  price  \n",
       "0       600            1   In-flight meal not included  10675  \n",
       "1       910            1   In-flight meal not included   8586  \n",
       "2       725            1                       No Info  13555  \n",
       "3       140            0  No check-in baggage included   3543  \n",
       "4       710            1                       No Info   5192  "
      ]
     },
     "execution_count": 40,
     "metadata": {},
     "output_type": "execute_result"
    }
   ],
   "source": [
    "export_data(X_val, y_val, \"val\")"
   ]
  },
  {
   "cell_type": "code",
   "execution_count": 41,
   "id": "db15e854-7f67-4a85-89a7-7e8e0d96e153",
   "metadata": {},
   "outputs": [
    {
     "data": {
      "text/html": [
       "<div>\n",
       "<style scoped>\n",
       "    .dataframe tbody tr th:only-of-type {\n",
       "        vertical-align: middle;\n",
       "    }\n",
       "\n",
       "    .dataframe tbody tr th {\n",
       "        vertical-align: top;\n",
       "    }\n",
       "\n",
       "    .dataframe thead th {\n",
       "        text-align: right;\n",
       "    }\n",
       "</style>\n",
       "<table border=\"1\" class=\"dataframe\">\n",
       "  <thead>\n",
       "    <tr style=\"text-align: right;\">\n",
       "      <th></th>\n",
       "      <th>airline</th>\n",
       "      <th>date_of_journey</th>\n",
       "      <th>source</th>\n",
       "      <th>destination</th>\n",
       "      <th>dep_time</th>\n",
       "      <th>arrival_time</th>\n",
       "      <th>duration</th>\n",
       "      <th>total_stops</th>\n",
       "      <th>additional_info</th>\n",
       "      <th>price</th>\n",
       "    </tr>\n",
       "  </thead>\n",
       "  <tbody>\n",
       "    <tr>\n",
       "      <th>0</th>\n",
       "      <td>Jet Airways</td>\n",
       "      <td>2019-03-06</td>\n",
       "      <td>Banglore</td>\n",
       "      <td>Delhi</td>\n",
       "      <td>08:00:00</td>\n",
       "      <td>08:15:00</td>\n",
       "      <td>1455</td>\n",
       "      <td>1</td>\n",
       "      <td>No Info</td>\n",
       "      <td>17996</td>\n",
       "    </tr>\n",
       "    <tr>\n",
       "      <th>1</th>\n",
       "      <td>Spicejet</td>\n",
       "      <td>2019-06-06</td>\n",
       "      <td>Kolkata</td>\n",
       "      <td>Banglore</td>\n",
       "      <td>22:20:00</td>\n",
       "      <td>00:40:00</td>\n",
       "      <td>140</td>\n",
       "      <td>0</td>\n",
       "      <td>No Info</td>\n",
       "      <td>3873</td>\n",
       "    </tr>\n",
       "    <tr>\n",
       "      <th>2</th>\n",
       "      <td>Indigo</td>\n",
       "      <td>2019-03-18</td>\n",
       "      <td>Kolkata</td>\n",
       "      <td>Banglore</td>\n",
       "      <td>05:30:00</td>\n",
       "      <td>08:20:00</td>\n",
       "      <td>170</td>\n",
       "      <td>0</td>\n",
       "      <td>No Info</td>\n",
       "      <td>4462</td>\n",
       "    </tr>\n",
       "    <tr>\n",
       "      <th>3</th>\n",
       "      <td>Jet Airways</td>\n",
       "      <td>2019-03-24</td>\n",
       "      <td>Mumbai</td>\n",
       "      <td>Hyderabad</td>\n",
       "      <td>15:50:00</td>\n",
       "      <td>17:20:00</td>\n",
       "      <td>90</td>\n",
       "      <td>0</td>\n",
       "      <td>In-flight meal not included</td>\n",
       "      <td>2228</td>\n",
       "    </tr>\n",
       "    <tr>\n",
       "      <th>4</th>\n",
       "      <td>Spicejet</td>\n",
       "      <td>2019-04-27</td>\n",
       "      <td>Banglore</td>\n",
       "      <td>Delhi</td>\n",
       "      <td>09:30:00</td>\n",
       "      <td>12:20:00</td>\n",
       "      <td>170</td>\n",
       "      <td>0</td>\n",
       "      <td>No Info</td>\n",
       "      <td>4991</td>\n",
       "    </tr>\n",
       "  </tbody>\n",
       "</table>\n",
       "</div>"
      ],
      "text/plain": [
       "       airline date_of_journey    source destination  dep_time arrival_time  \\\n",
       "0  Jet Airways      2019-03-06  Banglore       Delhi  08:00:00     08:15:00   \n",
       "1     Spicejet      2019-06-06   Kolkata    Banglore  22:20:00     00:40:00   \n",
       "2       Indigo      2019-03-18   Kolkata    Banglore  05:30:00     08:20:00   \n",
       "3  Jet Airways      2019-03-24    Mumbai   Hyderabad  15:50:00     17:20:00   \n",
       "4     Spicejet      2019-04-27  Banglore       Delhi  09:30:00     12:20:00   \n",
       "\n",
       "   duration  total_stops              additional_info  price  \n",
       "0      1455            1                      No Info  17996  \n",
       "1       140            0                      No Info   3873  \n",
       "2       170            0                      No Info   4462  \n",
       "3        90            0  In-flight meal not included   2228  \n",
       "4       170            0                      No Info   4991  "
      ]
     },
     "execution_count": 41,
     "metadata": {},
     "output_type": "execute_result"
    }
   ],
   "source": [
    "export_data(X_test, y_test, \"test\")"
   ]
  },
  {
   "cell_type": "code",
   "execution_count": null,
   "id": "c07baaee-4831-446e-9062-af0fc0e78f1d",
   "metadata": {},
   "outputs": [],
   "source": []
  },
  {
   "cell_type": "code",
   "execution_count": null,
   "id": "bee4cf16-5ed9-41d9-9c5c-03ee35b35dc9",
   "metadata": {},
   "outputs": [],
   "source": []
  }
 ],
 "metadata": {
  "kernelspec": {
   "display_name": "Python 3 (ipykernel)",
   "language": "python",
   "name": "python3"
  },
  "language_info": {
   "codemirror_mode": {
    "name": "ipython",
    "version": 3
   },
   "file_extension": ".py",
   "mimetype": "text/x-python",
   "name": "python",
   "nbconvert_exporter": "python",
   "pygments_lexer": "ipython3",
   "version": "3.11.7"
  }
 },
 "nbformat": 4,
 "nbformat_minor": 5
}
